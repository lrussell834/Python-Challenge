{
 "cells": [
  {
   "cell_type": "code",
   "execution_count": 1,
   "id": "b64618f1",
   "metadata": {},
   "outputs": [],
   "source": [
    "import os\n",
    "import csv"
   ]
  },
  {
   "cell_type": "code",
   "execution_count": 2,
   "id": "f40d7697",
   "metadata": {},
   "outputs": [],
   "source": [
    "#open csv file path\n",
    "budget_csv = os.path.join('Resources', 'budget_data.csv')"
   ]
  },
  {
   "cell_type": "code",
   "execution_count": 3,
   "id": "92153266",
   "metadata": {},
   "outputs": [],
   "source": [
    "#set lists\n",
    "date = []\n",
    "profit_losses = []\n",
    "monthly_change = []"
   ]
  },
  {
   "cell_type": "code",
   "execution_count": 4,
   "id": "4236bd04",
   "metadata": {},
   "outputs": [
    {
     "name": "stdout",
     "output_type": "stream",
     "text": [
      "Total Months: 86\n",
      "Total: $22564198\n",
      "Average Change: $-8311.11\n",
      "Greatest Increase in Profits: Aug-16, $1862002\n",
      "Greatest Decrease in Profits: Feb-14, $-1825558\n"
     ]
    }
   ],
   "source": [
    "# with open(budget_csv) as csvfile\n",
    "with open(budget_csv) as csvfile:\n",
    "    csvreader = csv.reader(csvfile, delimiter=\",\")\n",
    "\n",
    "    # skip the header row first \n",
    "    csv_header = next(csvreader)\n",
    "    \n",
    "    #set list beginning values\n",
    "    total_months = 0\n",
    "    net_total = 0\n",
    "    average_monthly_change = 0\n",
    "    net_change = 1088983\n",
    "    total_change = 0\n",
    "    greatest_increase = 0\n",
    "    i_month = 0\n",
    "    greatest_decrease = 0\n",
    "    d_month = 0\n",
    "\n",
    "    # Read each row of data after the header\n",
    "    for row in csvreader:\n",
    "        #Append each row into lists\n",
    "        date.append(row[0])\n",
    "        profit_losses.append(row[1])\n",
    "        \n",
    "        #Count the length of the date list made from the first row to get the total number of months\n",
    "        total_months = len(date)\n",
    "\n",
    "        \n",
    "        #Add together the net toal of all profit and losses\n",
    "        net_total = net_total + int(row[1])\n",
    "        \n",
    "        #Calculate the changes in profit/losses of the entire period\n",
    "        net_change = int(row[1]) - net_change \n",
    "        total_change = net_change \n",
    "        \n",
    "        #capture the greatest increase\n",
    "        if total_change > greatest_increase:\n",
    "            greatest_increase = total_change\n",
    "            i_month = row[0]\n",
    "        #capture the greatest decrease\n",
    "        if total_change < greatest_decrease:\n",
    "            greatest_decrease = total_change\n",
    "            d_month = row[0]\n",
    "            \n",
    "        #capture monthly profit/loss\n",
    "        monthly_change.append(total_change)\n",
    "        #set net change varialbe to next row\n",
    "        net_change = int(row [1])\n",
    "\n",
    "    #valculate the average monthly change in profit/loss\n",
    "    average_monthly_change = round(sum(monthly_change) / (len(monthly_change)-1), 2)     \n",
    "\n",
    "print(f'Total Months: {total_months}')\n",
    "print(f'Total: ${net_total}')\n",
    "print(f'Average Change: ${average_monthly_change}')\n",
    "print(f'Greatest Increase in Profits: {i_month}, ${greatest_increase}')\n",
    "print(f'Greatest Decrease in Profits: {d_month}, ${greatest_decrease}') "
   ]
  },
  {
   "cell_type": "code",
   "execution_count": 7,
   "id": "64a94685",
   "metadata": {},
   "outputs": [
    {
     "data": {
      "text/plain": [
       "'analysis\\\\financial_analysis.txt'"
      ]
     },
     "execution_count": 7,
     "metadata": {},
     "output_type": "execute_result"
    }
   ],
   "source": [
    "#open path where to write text file to\n",
    "os.path.join(\"analysis\", \"financial_analysis.txt\")"
   ]
  },
  {
   "cell_type": "code",
   "execution_count": 10,
   "id": "50d74279",
   "metadata": {},
   "outputs": [],
   "source": [
    "#create lines to write to text file\n",
    "lines_1 = [f'Financial Analysis\\n']\n",
    "lines_2 = [f'------------------------------------------------------\\n']\n",
    "lines_3 = [f'Total Months: {total_months} \\n']\n",
    "lines_4 = [f'Total: ${net_total} \\n']\n",
    "lines_5 = [f'Average Change: ${average_monthly_change} \\n']\n",
    "lines_6 = [f'Greatest Increase in Profits: {i_month}, ${greatest_increase} \\n']\n",
    "lines_7 = [f'Greatest Decrease in Profits: {d_month}, ${greatest_decrease} \\n']\n",
    "\n",
    "file = open('financial_analysis.txt', 'w')\n",
    "file.writelines(lines_1)\n",
    "file.writelines(lines_2)\n",
    "file.writelines(lines_3)\n",
    "file.writelines(lines_4)\n",
    "file.writelines(lines_5)\n",
    "file.writelines(lines_6)\n",
    "file.writelines(lines_7)\n",
    "    \n",
    "file.close()\n"
   ]
  }
 ],
 "metadata": {
  "kernelspec": {
   "display_name": "Python 3 (ipykernel)",
   "language": "python",
   "name": "python3"
  },
  "language_info": {
   "codemirror_mode": {
    "name": "ipython",
    "version": 3
   },
   "file_extension": ".py",
   "mimetype": "text/x-python",
   "name": "python",
   "nbconvert_exporter": "python",
   "pygments_lexer": "ipython3",
   "version": "3.9.13"
  }
 },
 "nbformat": 4,
 "nbformat_minor": 5
}
