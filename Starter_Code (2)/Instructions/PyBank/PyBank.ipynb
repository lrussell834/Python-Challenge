{
 "cells": [
  {
   "cell_type": "code",
   "execution_count": 1,
   "id": "b64618f1",
   "metadata": {},
   "outputs": [],
   "source": [
    "import os\n",
    "import csv"
   ]
  },
  {
   "cell_type": "code",
   "execution_count": 2,
   "id": "f40d7697",
   "metadata": {},
   "outputs": [],
   "source": [
    "budget_csv = os.path.join('Resources', 'budget_data.csv')"
   ]
  },
  {
   "cell_type": "code",
   "execution_count": 3,
   "id": "d14825c4",
   "metadata": {},
   "outputs": [],
   "source": [
    "date = []\n",
    "profit_losses = []\n",
    "monthly_change = []"
   ]
  },
  {
   "cell_type": "code",
   "execution_count": 5,
   "id": "4236bd04",
   "metadata": {},
   "outputs": [
    {
     "name": "stdout",
     "output_type": "stream",
     "text": [
      "[0, 354534, 77912, 806045, -46948, -610669, -75461, -707810, -534066, -1484807, -699057, 495076, 1084652, 1968573, 1525009, 687122, -394350, -858383, 208161, -115685, 690866, 203813, -924998, -1716396, -2455763, -2257938, -2923954, -3513725, -4003015, -3531576, -3651993, -3827340, -4682789, -5287984, -5052764, -5399902, -5698412, -5861666, -7003506, -7546136, -7645977, -8398742, -8145793, -9060217, -9739741, -10254118, -10716220, -10876002, -11754812, -10808064, -11148399, -11440431, -11942697, -12208549, -13059566, -12509951, -12800113, -13555504, -14628706, -14941706, -15182838, -16219427, -17073331, -16684399, -17667351, -18205110, -18752894, -18256680, -19110861, -20045580, -19757049, -19572666, -20232207, -19083084, -19438966, -20101250, -20619931, -19871675, -18960900, -19912127, -20810368, -20081364, -19969155, -20485468, -21092676, -21475215]\n"
     ]
    }
   ],
   "source": [
    "# with open(budget_csv) as csvfile\n",
    "with open(budget_csv) as csvfile:\n",
    "    csvreader = csv.reader(csvfile, delimiter=\",\")\n",
    "\n",
    "    # skip the header row first \n",
    "    csv_header = next(csvreader)\n",
    "    \n",
    "    total_months = 0\n",
    "    net_total = 0\n",
    "    net_change = 1088983\n",
    "    total_change = 0\n",
    "\n",
    "    # Read each row of data after the header\n",
    "    for row in csvreader:\n",
    "        #Append each row into lists\n",
    "        date.append(row[0])\n",
    "        profit_losses.append(row[1])\n",
    "        \n",
    "        #Count the length of the date list made from the first row to get the total number of months\n",
    "        total_months = len(date)\n",
    "        \n",
    "        #Add together the net toal of all profit and losses\n",
    "        net_total = net_total + int(row[1])\n",
    "        \n",
    "        #Calculate the changes in profit/losses of the entire period\n",
    "        net_change = net_change - int(row[1]) \n",
    "        total_change = net_change\n",
    "        \n",
    "        monthly_change.append(total_change)\n",
    "    \n",
    "print(monthly_change)  \n"
   ]
  },
  {
   "cell_type": "code",
   "execution_count": 6,
   "id": "b0c91949",
   "metadata": {},
   "outputs": [
    {
     "data": {
      "text/plain": [
       "-9268176.860465117"
      ]
     },
     "execution_count": 6,
     "metadata": {},
     "output_type": "execute_result"
    }
   ],
   "source": [
    "average_monthly_change = sum(monthly_change) / len(monthly_change)\n",
    "average_monthly_change"
   ]
  },
  {
   "cell_type": "code",
   "execution_count": null,
   "id": "247f97a0",
   "metadata": {},
   "outputs": [],
   "source": []
  }
 ],
 "metadata": {
  "kernelspec": {
   "display_name": "Python 3 (ipykernel)",
   "language": "python",
   "name": "python3"
  },
  "language_info": {
   "codemirror_mode": {
    "name": "ipython",
    "version": 3
   },
   "file_extension": ".py",
   "mimetype": "text/x-python",
   "name": "python",
   "nbconvert_exporter": "python",
   "pygments_lexer": "ipython3",
   "version": "3.9.13"
  }
 },
 "nbformat": 4,
 "nbformat_minor": 5
}
