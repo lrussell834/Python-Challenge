{
 "cells": [
  {
   "cell_type": "code",
   "execution_count": 1,
   "id": "a1fa237b",
   "metadata": {},
   "outputs": [],
   "source": [
    "import os\n",
    "import csv"
   ]
  },
  {
   "cell_type": "code",
   "execution_count": 2,
   "id": "8eb6a073",
   "metadata": {},
   "outputs": [],
   "source": [
    "#open path to data csv\n",
    "election_csv = os.path.join('Resources', 'election_data.csv')"
   ]
  },
  {
   "cell_type": "code",
   "execution_count": 3,
   "id": "ccf0f598",
   "metadata": {},
   "outputs": [],
   "source": [
    "#set lists\n",
    "ballot_id =[]\n",
    "county = []\n",
    "candidate = []"
   ]
  },
  {
   "cell_type": "code",
   "execution_count": 4,
   "id": "437051c4",
   "metadata": {},
   "outputs": [
    {
     "name": "stdout",
     "output_type": "stream",
     "text": [
      "Total Votes = 369711\n"
     ]
    }
   ],
   "source": [
    "# with open(budget_csv) as csvfile\n",
    "with open(election_csv) as csvfile:\n",
    "    csvreader = csv.reader(csvfile, delimiter=\",\")\n",
    "\n",
    "    # skip the header row first \n",
    "    csv_header = next(csvreader)\n",
    "    \n",
    "    #set list beginning values\n",
    "    total_votes = 0\n",
    "\n",
    "    # Read each row of data after the header\n",
    "    for row in csvreader:\n",
    "        #Append each row into lists\n",
    "        ballot_id.append(row[0])\n",
    "        county.append(row[1])\n",
    "        candidate.append(row[2])\n",
    "        \n",
    "        #Count the length of the ballot id list made from the first row to get the total number of votes\n",
    "        total_votes = len(ballot_id)\n",
    "print(f'Total Votes = {total_votes}')"
   ]
  },
  {
   "cell_type": "code",
   "execution_count": 5,
   "id": "cd771118",
   "metadata": {},
   "outputs": [
    {
     "name": "stdout",
     "output_type": "stream",
     "text": [
      "['Charles Casper Stockham', 'Diana DeGette', 'Raymon Anthony Doane']\n"
     ]
    }
   ],
   "source": [
    "#loop through candidate list to find all names and create list of all duplicate names\n",
    "candidate_list = []\n",
    "for name in candidate:\n",
    "    if name not in candidate_list:\n",
    "        candidate_list.append(name)\n",
    "print(candidate_list)   "
   ]
  },
  {
   "cell_type": "code",
   "execution_count": 6,
   "id": "aa89b03d",
   "metadata": {},
   "outputs": [
    {
     "name": "stdout",
     "output_type": "stream",
     "text": [
      "count_candidate_one=85213\n"
     ]
    }
   ],
   "source": [
    "#count total number of values for first candidate, Charles Casper Stockham\n",
    "count_candidate_one = candidate.count(\"Charles Casper Stockham\")\n",
    "print(f'{count_candidate_one=}')"
   ]
  },
  {
   "cell_type": "code",
   "execution_count": 7,
   "id": "fecc5c50",
   "metadata": {},
   "outputs": [
    {
     "name": "stdout",
     "output_type": "stream",
     "text": [
      "count_candidate_two=272892\n"
     ]
    }
   ],
   "source": [
    "#count total number of values for second candidate, Diana DeGette\n",
    "count_candidate_two = candidate.count(\"Diana DeGette\")\n",
    "print(f'{count_candidate_two=}')"
   ]
  },
  {
   "cell_type": "code",
   "execution_count": 8,
   "id": "779c371c",
   "metadata": {},
   "outputs": [
    {
     "name": "stdout",
     "output_type": "stream",
     "text": [
      "count_candidate_three=11606\n"
     ]
    }
   ],
   "source": [
    "#count toal number of values for third candidate, Raymon Anthony Doane\n",
    "count_candidate_three = candidate.count(\"Raymon Anthony Doane\")\n",
    "print(f'{count_candidate_three=}')"
   ]
  },
  {
   "cell_type": "code",
   "execution_count": 10,
   "id": "20a247dc",
   "metadata": {},
   "outputs": [
    {
     "name": "stdout",
     "output_type": "stream",
     "text": [
      "Winner = Diana DeGette\n"
     ]
    }
   ],
   "source": [
    "#find candidate with greatest number of votes\n",
    "if count_candidate_one > count_candidate_two and count_candidate_three:\n",
    "    print(f'Winner = Charles Casper Stockham')\n",
    "elif count_candidate_two > count_candidate_one and count_candidate_three:\n",
    "    print(f'Winner = Diana DeGette')\n",
    "elif count_candidate_three > count_candidate_one and count_candidate_two:\n",
    "    print(f'Winner = Raymon Anthony Doane')"
   ]
  },
  {
   "cell_type": "code",
   "execution_count": 11,
   "id": "1667656f",
   "metadata": {},
   "outputs": [
    {
     "name": "stdout",
     "output_type": "stream",
     "text": [
      "23.049%\n"
     ]
    }
   ],
   "source": [
    "#calculate the percentage of votes for candidate one, Charles Casper Stockham, hold in variable\n",
    "charles_vote_percent = round(( count_candidate_one / total_votes ) * 100, 3)\n",
    "print(str(charles_vote_percent) + \"%\")"
   ]
  },
  {
   "cell_type": "code",
   "execution_count": 12,
   "id": "e37ce2ad",
   "metadata": {},
   "outputs": [
    {
     "name": "stdout",
     "output_type": "stream",
     "text": [
      "73.812%\n"
     ]
    }
   ],
   "source": [
    "#calculate the percentage of votes for candidate two, Diana DeGette, hold in variable\n",
    "diana_vote_percent = round(( count_candidate_two / total_votes ) * 100, 3)\n",
    "print(str(diana_vote_percent) + \"%\")"
   ]
  },
  {
   "cell_type": "code",
   "execution_count": 13,
   "id": "9f6debe6",
   "metadata": {},
   "outputs": [
    {
     "name": "stdout",
     "output_type": "stream",
     "text": [
      "3.139%\n"
     ]
    }
   ],
   "source": [
    "#calculate the percentage of votes for candidate three, Raymon Anthony Doane, hold in variable\n",
    "raymon_vote_percent = round(( count_candidate_three / total_votes ) * 100, 3)\n",
    "print(str(raymon_vote_percent) + \"%\")"
   ]
  },
  {
   "cell_type": "code",
   "execution_count": 14,
   "id": "f39c5592",
   "metadata": {},
   "outputs": [
    {
     "data": {
      "text/plain": [
       "'analysis\\\\poll_results.txt'"
      ]
     },
     "execution_count": 14,
     "metadata": {},
     "output_type": "execute_result"
    }
   ],
   "source": [
    "#open path where to write text file to\n",
    "os.path.join(\"analysis\", \"poll_results.txt\")"
   ]
  },
  {
   "cell_type": "code",
   "execution_count": 16,
   "id": "aa07e60e",
   "metadata": {},
   "outputs": [],
   "source": [
    "#create lines to write to text file\n",
    "lines_1 = [f'Election Results\\n']\n",
    "lines_2 = [f'------------------------------------------------------\\n']\n",
    "lines_3 = [f'Total Votes = {total_votes} \\n']\n",
    "lines_4 = [f'------------------------------------------------------\\n']\n",
    "lines_5 = [f'{candidate_list[0]}: {charles_vote_percent}% ({count_candidate_one}) \\n']\n",
    "lines_6 = [f'{candidate_list[1]}: {diana_vote_percent}% ({count_candidate_two}) \\n']\n",
    "lines_7 = [f'{candidate_list[2]}: {raymon_vote_percent}% ({count_candidate_three}) \\n']\n",
    "lines_8 = [f'------------------------------------------------------\\n']\n",
    "lines_9 = [f'Winner = Diana DeGette \\n']\n",
    "\n",
    "file = open('poll_results.txt', 'w')\n",
    "file.writelines(lines_1)\n",
    "file.writelines(lines_2)\n",
    "file.writelines(lines_3)\n",
    "file.writelines(lines_4)\n",
    "file.writelines(lines_5)\n",
    "file.writelines(lines_6)\n",
    "file.writelines(lines_7)\n",
    "file.writelines(lines_8)\n",
    "file.writelines(lines_9)\n",
    "    \n",
    "file.close()\n"
   ]
  }
 ],
 "metadata": {
  "kernelspec": {
   "display_name": "Python 3 (ipykernel)",
   "language": "python",
   "name": "python3"
  },
  "language_info": {
   "codemirror_mode": {
    "name": "ipython",
    "version": 3
   },
   "file_extension": ".py",
   "mimetype": "text/x-python",
   "name": "python",
   "nbconvert_exporter": "python",
   "pygments_lexer": "ipython3",
   "version": "3.9.13"
  }
 },
 "nbformat": 4,
 "nbformat_minor": 5
}
