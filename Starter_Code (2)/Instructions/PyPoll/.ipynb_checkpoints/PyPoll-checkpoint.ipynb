{
 "cells": [
  {
   "cell_type": "code",
   "execution_count": 1,
   "id": "a1fa237b",
   "metadata": {},
   "outputs": [],
   "source": [
    "import os\n",
    "import csv"
   ]
  },
  {
   "cell_type": "code",
   "execution_count": 2,
   "id": "8eb6a073",
   "metadata": {},
   "outputs": [],
   "source": [
    "election_csv = os.path.join('Resources', 'election_data.csv')"
   ]
  },
  {
   "cell_type": "code",
   "execution_count": 3,
   "id": "ccf0f598",
   "metadata": {},
   "outputs": [],
   "source": [
    "ballot_id =[]\n",
    "county = []\n",
    "candidate = []"
   ]
  },
  {
   "cell_type": "code",
   "execution_count": 4,
   "id": "437051c4",
   "metadata": {},
   "outputs": [],
   "source": [
    "# with open(budget_csv) as csvfile\n",
    "with open(election_csv) as csvfile:\n",
    "    csvreader = csv.reader(csvfile, delimiter=\",\")\n",
    "\n",
    "    # skip the header row first \n",
    "    csv_header = next(csvreader)\n",
    "    \n",
    "    total_votes = 0\n",
    "\n",
    "    # Read each row of data after the header\n",
    "    for row in csvreader:\n",
    "        #Append each row into lists\n",
    "        ballot_id.append(row[0])\n",
    "        county.append(row[1])\n",
    "        candidate.append(row[2])\n",
    "        \n",
    "        #Count the length of the ballot id list made from the first row to get the total number of votes\n",
    "        total_votes = len(ballot_id)\n"
   ]
  },
  {
   "cell_type": "code",
   "execution_count": 5,
   "id": "449e4ec7",
   "metadata": {},
   "outputs": [
    {
     "name": "stdout",
     "output_type": "stream",
     "text": [
      "['Charles Casper Stockham', 'Diana DeGette', 'Raymon Anthony Doane']\n"
     ]
    }
   ],
   "source": [
    "#loop through candidate list to find all names and create list of all duplicate names\n",
    "candidate_list = []\n",
    "for name in candidate:\n",
    "    if name not in candidate_list:\n",
    "        candidate_list.append(name)\n",
    "print(candidate_list)    "
   ]
  },
  {
   "cell_type": "code",
   "execution_count": 6,
   "id": "971ec5cc",
   "metadata": {},
   "outputs": [
    {
     "name": "stdout",
     "output_type": "stream",
     "text": [
      "count_candidate_one=85213\n"
     ]
    }
   ],
   "source": [
    "#count total number of values for first candidate, Charles Casper Stockham\n",
    "count_candidate_one = candidate.count(\"Charles Casper Stockham\")\n",
    "print(f'{count_candidate_one=}')"
   ]
  },
  {
   "cell_type": "code",
   "execution_count": 7,
   "id": "bc3c74ac",
   "metadata": {},
   "outputs": [
    {
     "name": "stdout",
     "output_type": "stream",
     "text": [
      "count_candidate_two=272892\n"
     ]
    }
   ],
   "source": [
    "#count total number of values for second candidate, Diana DeGette\n",
    "count_candidate_two = candidate.count(\"Diana DeGette\")\n",
    "print(f'{count_candidate_two=}')"
   ]
  },
  {
   "cell_type": "code",
   "execution_count": 8,
   "id": "4964df84",
   "metadata": {},
   "outputs": [
    {
     "name": "stdout",
     "output_type": "stream",
     "text": [
      "count_candidate_three=11606\n"
     ]
    }
   ],
   "source": [
    "#count toal number of values for third candidate, Raymon Anthony Doane\n",
    "count_candidate_three = candidate.count(\"Raymon Anthony Doane\")\n",
    "print(f'{count_candidate_three=}')"
   ]
  },
  {
   "cell_type": "code",
   "execution_count": 9,
   "id": "db8674e5",
   "metadata": {},
   "outputs": [
    {
     "name": "stdout",
     "output_type": "stream",
     "text": [
      "23.049%\n"
     ]
    }
   ],
   "source": [
    "#calculate the percentage of votes for candidate one, Charles Casper Stockham, hold in variable\n",
    "charles_vote_percent = round(( count_candidate_one / total_votes ) * 100, 3)\n",
    "print(str(charles_vote_percent) + \"%\")"
   ]
  },
  {
   "cell_type": "code",
   "execution_count": 10,
   "id": "47c8dd02",
   "metadata": {},
   "outputs": [
    {
     "name": "stdout",
     "output_type": "stream",
     "text": [
      "73.812%\n"
     ]
    }
   ],
   "source": [
    "#calculate the percentage of votes for candidate two, Diana DeGette, hold in variable\n",
    "diana_vote_percent = round(( count_candidate_two / total_votes ) * 100, 3)\n",
    "print(str(diana_vote_percent) + \"%\")"
   ]
  },
  {
   "cell_type": "code",
   "execution_count": 11,
   "id": "946086d1",
   "metadata": {},
   "outputs": [
    {
     "name": "stdout",
     "output_type": "stream",
     "text": [
      "3.139%\n"
     ]
    }
   ],
   "source": [
    "#calculate the percentage of votes for candidate three, Raymon Anthony Doane, hold in variable\n",
    "raymon_vote_percent = round(( count_candidate_three / total_votes ) * 100, 3)\n",
    "print(str(raymon_vote_percent) + \"%\")"
   ]
  },
  {
   "cell_type": "code",
   "execution_count": 12,
   "id": "b5855166",
   "metadata": {},
   "outputs": [
    {
     "data": {
      "text/plain": [
       "'..\\\\analysis\\\\poll_results.txt'"
      ]
     },
     "execution_count": 12,
     "metadata": {},
     "output_type": "execute_result"
    }
   ],
   "source": [
    "#open path where to write text file to\n",
    "os.path.join(\"..\", \"analysis\", \"poll_results.txt\")"
   ]
  },
  {
   "cell_type": "code",
   "execution_count": 18,
   "id": "16c65614",
   "metadata": {},
   "outputs": [],
   "source": [
    "#create lines to write to text file\n",
    "lines_1 = ['Election Results']\n",
    "lines_2 = ['Total Votes: 369711']\n",
    "lines_3 = ['Charles Casper Stockham: 23.049% (85213)']\n",
    "# Open the file using \"write\" mode.\n",
    "with open('poll_results.txt', 'w') as file:\n",
    "\n",
    "    for line_1 in lines_1:\n",
    "        file.write(line_1)\n",
    "        file.write('\\n')\n",
    "    for line_2 in lines_2:\n",
    "        file.write(line_2)\n",
    "        file.write('\\n')\n",
    "    for line_3 in lines_3:\n",
    "        file.write(line_3)\n",
    "        file.write('\\n')\n",
    "\n",
    "    "
   ]
  }
 ],
 "metadata": {
  "kernelspec": {
   "display_name": "Python 3 (ipykernel)",
   "language": "python",
   "name": "python3"
  },
  "language_info": {
   "codemirror_mode": {
    "name": "ipython",
    "version": 3
   },
   "file_extension": ".py",
   "mimetype": "text/x-python",
   "name": "python",
   "nbconvert_exporter": "python",
   "pygments_lexer": "ipython3",
   "version": "3.9.13"
  }
 },
 "nbformat": 4,
 "nbformat_minor": 5
}
